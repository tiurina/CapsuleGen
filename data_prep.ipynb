{
 "cells": [
  {
   "attachments": {},
   "cell_type": "markdown",
   "id": "64c1d78e-756b-48ec-bcf6-198b914d66a5",
   "metadata": {},
   "source": [
    "## Load data"
   ]
  },
  {
   "attachments": {},
   "cell_type": "markdown",
   "id": "1ec28d11-0244-4dc8-8651-9c88cbfc8314",
   "metadata": {},
   "source": [
    "### Imports"
   ]
  },
  {
   "cell_type": "code",
   "execution_count": 1,
   "id": "a4792e11-befd-447c-bd76-de563d472f83",
   "metadata": {},
   "outputs": [],
   "source": [
    "!apt-get install unzip > /dev/null\n",
    "!apt-get install pv > /dev/null"
   ]
  },
  {
   "cell_type": "code",
   "execution_count": null,
   "id": "e8d3dfe8-7e23-4a16-ba44-835582e48fe2",
   "metadata": {},
   "outputs": [],
   "source": [
    "pip install gdown > /dev/null"
   ]
  },
  {
   "cell_type": "code",
   "execution_count": null,
   "id": "63814d93-1a57-4b56-9cf8-db6ea5243b41",
   "metadata": {},
   "outputs": [],
   "source": [
    "import tqdm"
   ]
  },
  {
   "attachments": {},
   "cell_type": "markdown",
   "id": "d1a36831-991a-4a07-8714-9d23a0ab7651",
   "metadata": {},
   "source": [
    "### Download DeepFashion2"
   ]
  },
  {
   "cell_type": "code",
   "execution_count": null,
   "id": "427e5c75-4c60-47fb-93c3-37a286fbc762",
   "metadata": {},
   "outputs": [],
   "source": [
    "!gdown --fuzzy \"https://drive.google.com/file/d/1LCYTTmL2v51pUK2RGRXrw139e3C6khdS/view?usp=sharing\"\n",
    "!gdown --fuzzy \"https://drive.google.com/file/d/1fHvLVU5I7h7AcLwHrnx4V6i8V_USpet1/view?usp=sharing\"\n",
    "!gdown --fuzzy \"https://drive.google.com/file/d/1slvfH-8tSPu7pqOw2rnmOSQciWzGK8hG/view?usp=sharing\"\n",
    "!gdown --fuzzy \"https://drive.google.com/file/d/1b1xtRwhWdxZM1lkCamV-x2Tukv2EiIZy/view?usp=sharing\"\n",
    "!gdown --fuzzy \"https://drive.google.com/file/d/1rYCvdxKnGggdd6Ah7n6iQe81wyA_rwWF/view?usp=sharing\"\n",
    "!gdown --fuzzy \"https://drive.google.com/file/d/1jb0MNZ070G-GilYqTej1R86OW9hdoc9T/view?usp=sharing\""
   ]
  },
  {
   "attachments": {},
   "cell_type": "markdown",
   "id": "8e6ea8cf-c84c-4735-8b62-52c7097807cb",
   "metadata": {},
   "source": [
    "### Unzip files"
   ]
  },
  {
   "cell_type": "code",
   "execution_count": null,
   "id": "7a76d788-2a57-43f4-a590-a05dd2c1f4cf",
   "metadata": {},
   "outputs": [],
   "source": [
    "n_files = !unzip -l json_for_validation.zip | tail -n 1 | xargs echo -n | cut -d' ' -f2\n",
    "n_files = int(n_files[0])\n",
    "!unzip -o json_for_validation.zip | tqdm --desc extracted --unit files --unit_scale --total $n_files > /dev/null"
   ]
  },
  {
   "cell_type": "code",
   "execution_count": 20,
   "id": "04f0005e-bbac-4c92-9a34-b9f6ace899d8",
   "metadata": {},
   "outputs": [
    {
     "name": "stdout",
     "output_type": "stream",
     "text": [
      "extracted: 129kfiles [10:16, 208files/s]                                        \n"
     ]
    }
   ],
   "source": [
    "n_files = !unzip -l validation.zip | tail -n 1 | xargs echo -n | cut -d' ' -f2\n",
    "n_files = int(n_files[0])\n",
    "!unzip -o validation.zip | tqdm --desc extracted --unit files --unit_scale --total $n_files > /dev/null"
   ]
  },
  {
   "cell_type": "code",
   "execution_count": 21,
   "id": "1a44da05-59da-4a43-b8ec-4020ba8395c2",
   "metadata": {},
   "outputs": [
    {
     "name": "stdout",
     "output_type": "stream",
     "text": [
      "extracted: 125kfiles [10:33, 198files/s]                                        \n"
     ]
    }
   ],
   "source": [
    "n_files = !unzip -l test.zip | tail -n 1 | xargs echo -n | cut -d' ' -f2\n",
    "n_files = int(n_files[0])\n",
    "!unzip -o test.zip | tqdm --desc extracted --unit files --unit_scale --total $n_files > /dev/null"
   ]
  },
  {
   "cell_type": "code",
   "execution_count": null,
   "id": "807c83c9",
   "metadata": {},
   "outputs": [],
   "source": [
    "!rm json_for_validation.zip\n",
    "!rm test.zip\n",
    "!rm validation.zip"
   ]
  },
  {
   "cell_type": "code",
   "execution_count": 26,
   "id": "31803b3d-4c36-4d8f-a19f-19eaff7322c3",
   "metadata": {},
   "outputs": [
    {
     "name": "stdout",
     "output_type": "stream",
     "text": [
      "extracted: 768kfiles [1:02:03, 206files/s]                                      \n"
     ]
    }
   ],
   "source": [
    "n_files = !unzip -l train.zip | tail -n 1 | xargs echo -n | cut -d' ' -f2\n",
    "n_files = int(n_files[0])\n",
    "!unzip -o train.zip | tqdm --desc extracted --unit files --unit_scale --total $n_files > /dev/null"
   ]
  }
 ],
 "metadata": {
  "kernelspec": {
   "display_name": "Python 3 (ipykernel)",
   "language": "python",
   "name": "python3"
  },
  "language_info": {
   "codemirror_mode": {
    "name": "ipython",
    "version": 3
   },
   "file_extension": ".py",
   "mimetype": "text/x-python",
   "name": "python",
   "nbconvert_exporter": "python",
   "pygments_lexer": "ipython3",
   "version": "3.10.6"
  }
 },
 "nbformat": 4,
 "nbformat_minor": 5
}
